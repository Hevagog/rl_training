{
  "cells": [
    {
      "cell_type": "markdown",
      "metadata": {
        "id": "njb_ProuHiOe"
      },
      "source": [
        "# Unit 1: Train your first Deep Reinforcement Learning Agent 🤖\n",
        "\n",
        "![Cover](https://huggingface.co/datasets/huggingface-deep-rl-course/course-images/resolve/main/en/unit1/thumbnail.jpg)\n",
        "\n",
        "In this notebook, you'll train your **first Deep Reinforcement Learning agent** a Lunar Lander agent that will learn to **land correctly on the Moon 🌕**. Using [Stable-Baselines3](https://stable-baselines3.readthedocs.io/en/master/) a Deep Reinforcement Learning library, share them with the community, and experiment with different configurations\n",
        "\n",
        "⬇️ Here is an example of what **you will achieve in just a couple of minutes.** ⬇️\n",
        "\n",
        "\n"
      ]
    },
    {
      "cell_type": "code",
      "execution_count": null,
      "metadata": {
        "id": "PF46MwbZD00b"
      },
      "outputs": [],
      "source": [
        "%%html\n",
        "<video controls autoplay><source src=\"https://huggingface.co/sb3/ppo-LunarLander-v2/resolve/main/replay.mp4\" type=\"video/mp4\"></video>"
      ]
    },
    {
      "cell_type": "markdown",
      "metadata": {
        "id": "x7oR6R-ZIbeS"
      },
      "source": [
        "### The environment 🎮\n",
        "\n",
        "- [LunarLander-v2](https://gymnasium.farama.org/environments/box2d/lunar_lander/)\n",
        "\n",
        "### The library used 📚\n",
        "\n",
        "- [Stable-Baselines3](https://stable-baselines3.readthedocs.io/en/master/)"
      ]
    },
    {
      "cell_type": "markdown",
      "metadata": {
        "id": "OwEcFHe9RRZW"
      },
      "source": [
        "We're constantly trying to improve our tutorials, so **if you find some issues in this notebook**, please [open an issue on the Github Repo](https://github.com/huggingface/deep-rl-class/issues)."
      ]
    },
    {
      "cell_type": "markdown",
      "metadata": {
        "id": "4i6tjI2tHQ8j"
      },
      "source": [
        "## Objectives of this notebook 🏆\n",
        "\n",
        "At the end of the notebook, you will:\n",
        "\n",
        "- Be able to use **Gymnasium**, the environment library.\n",
        "- Be able to use **Stable-Baselines3**, the deep reinforcement learning library.\n",
        "- Be able to **push your trained agent to the Hub** with a nice video replay and an evaluation score 🔥.\n",
        "\n",
        "\n"
      ]
    },
    {
      "cell_type": "markdown",
      "metadata": {
        "id": "Ff-nyJdzJPND"
      },
      "source": [
        "## This notebook is from Deep Reinforcement Learning Course\n",
        "\n",
        "<img src=\"https://huggingface.co/datasets/huggingface-deep-rl-course/course-images/resolve/main/en/notebooks/deep-rl-course-illustration.jpg\" alt=\"Deep RL Course illustration\"/>"
      ]
    },
    {
      "cell_type": "markdown",
      "metadata": {
        "id": "6p5HnEefISCB"
      },
      "source": [
        "In this free course, you will:\n",
        "\n",
        "- 📖 Study Deep Reinforcement Learning in **theory and practice**.\n",
        "- 🧑‍💻 Learn to **use famous Deep RL libraries** such as Stable Baselines3, RL Baselines3 Zoo, CleanRL and Sample Factory 2.0.\n",
        "- 🤖 Train **agents in unique environments**\n",
        "- 🎓 **Earn a certificate of completion** by completing 80% of the assignments.\n",
        "\n",
        "And more!\n",
        "\n",
        "Check 📚 the syllabus 👉 https://simoninithomas.github.io/deep-rl-course\n",
        "\n",
        "Don’t forget to **<a href=\"http://eepurl.com/ic5ZUD\">sign up to the course</a>** (we are collecting your email to be able to **send you the links when each Unit is published and give you information about the challenges and updates).**\n",
        "\n",
        "The best way to keep in touch and ask questions is **to join our discord server** to exchange with the community and with us 👉🏻 https://discord.gg/ydHrjt3WP5"
      ]
    },
    {
      "cell_type": "markdown",
      "metadata": {
        "id": "Y-mo_6rXIjRi"
      },
      "source": [
        "## Prerequisites 🏗️\n",
        "\n",
        "Before diving into the notebook, you need to:\n",
        "\n",
        "🔲 📝 **[Read Unit 0](https://huggingface.co/deep-rl-course/unit0/introduction)** that gives you all the **information about the course and helps you to onboard** 🤗\n",
        "\n",
        "🔲 📚 **Develop an understanding of the foundations of Reinforcement learning** (RL process, Rewards hypothesis...) by [reading Unit 1](https://huggingface.co/deep-rl-course/unit1/introduction)."
      ]
    },
    {
      "cell_type": "markdown",
      "metadata": {
        "id": "HoeqMnr5LuYE"
      },
      "source": [
        "## A small recap of Deep Reinforcement Learning 📚\n",
        "\n",
        "<img src=\"https://huggingface.co/datasets/huggingface-deep-rl-course/course-images/resolve/main/en/unit1/RL_process_game.jpg\" alt=\"The RL process\" width=\"100%\">"
      ]
    },
    {
      "cell_type": "markdown",
      "metadata": {
        "id": "xcQYx9ynaFMD"
      },
      "source": [
        "Let's do a small recap on what we learned in the first Unit:\n",
        "\n",
        "- Reinforcement Learning is a **computational approach to learning from actions**. We build an agent that learns from the environment by **interacting with it through trial and error** and receiving rewards (negative or positive) as feedback.\n",
        "\n",
        "- The goal of any RL agent is to **maximize its expected cumulative reward** (also called expected return) because RL is based on the _reward hypothesis_, which is that all goals can be described as the maximization of an expected cumulative reward.\n",
        "\n",
        "- The RL process is a **loop that outputs a sequence of state, action, reward, and next state**.\n",
        "\n",
        "- To calculate the expected cumulative reward (expected return), **we discount the rewards**: the rewards that come sooner (at the beginning of the game) are more probable to happen since they are more predictable than the long-term future reward.\n",
        "\n",
        "- To solve an RL problem, you want to **find an optimal policy**; the policy is the \"brain\" of your AI that will tell us what action to take given a state. The optimal one is the one that gives you the actions that max the expected return.\n",
        "\n",
        "There are **two** ways to find your optimal policy:\n",
        "\n",
        "- By **training your policy directly**: policy-based methods.\n",
        "- By **training a value function** that tells us the expected return the agent will get at each state and use this function to define our policy: value-based methods.\n",
        "\n",
        "- Finally, we spoke about Deep RL because **we introduce deep neural networks to estimate the action to take (policy-based) or to estimate the value of a state (value-based) hence the name \"deep.\"**"
      ]
    },
    {
      "cell_type": "markdown",
      "metadata": {
        "id": "qDploC3jSH99"
      },
      "source": [
        "# Let's train our first Deep Reinforcement Learning agent and upload it to the Hub 🚀\n",
        "\n",
        "## Get a certificate 🎓\n",
        "\n",
        "To validate this hands-on for the [certification process](https://huggingface.co/deep-rl-course/en/unit0/introduction#certification-process), you need to push your trained model to the Hub and **get a result of >= 200**.\n",
        "\n",
        "To find your result, go to the [leaderboard](https://huggingface.co/spaces/huggingface-projects/Deep-Reinforcement-Learning-Leaderboard) and find your model, **the result = mean_reward - std of reward**\n",
        "\n",
        "For more information about the certification process, check this section 👉 https://huggingface.co/deep-rl-course/en/unit0/introduction#certification-process"
      ]
    },
    {
      "cell_type": "markdown",
      "metadata": {
        "id": "HqzznTzhNfAC"
      },
      "source": [
        "## Set the GPU 💪\n",
        "\n",
        "- To **accelerate the agent's training, we'll use a GPU**. To do that, go to `Runtime > Change Runtime type`\n",
        "\n",
        "<img src=\"https://huggingface.co/datasets/huggingface-deep-rl-course/course-images/resolve/main/en/notebooks/gpu-step1.jpg\" alt=\"GPU Step 1\">"
      ]
    },
    {
      "cell_type": "markdown",
      "metadata": {
        "id": "38HBd3t1SHJ8"
      },
      "source": [
        "- `Hardware Accelerator > GPU`\n",
        "\n",
        "<img src=\"https://huggingface.co/datasets/huggingface-deep-rl-course/course-images/resolve/main/en/notebooks/gpu-step2.jpg\" alt=\"GPU Step 2\">"
      ]
    },
    {
      "cell_type": "markdown",
      "metadata": {
        "id": "jeDAH0h0EBiG"
      },
      "source": [
        "## Install dependencies and create a virtual screen 🔽\n",
        "\n",
        "The first step is to install the dependencies, we’ll install multiple ones.\n",
        "\n",
        "- `gymnasium[box2d]`: Contains the LunarLander-v2 environment 🌛\n",
        "- `stable-baselines3[extra]`: The deep reinforcement learning library.\n",
        "- `huggingface_sb3`: Additional code for Stable-baselines3 to load and upload models from the Hugging Face 🤗 Hub.\n",
        "\n",
        "To make things easier, we created a script to install all these dependencies."
      ]
    },
    {
      "cell_type": "code",
      "execution_count": 2,
      "metadata": {
        "id": "yQIGLPDkGhgG"
      },
      "outputs": [
        {
          "name": "stdout",
          "output_type": "stream",
          "text": [
            "[sudo] password for tomek: \n"
          ]
        }
      ],
      "source": [
        "!sudo apt install swig cmake"
      ]
    },
    {
      "cell_type": "code",
      "execution_count": null,
      "metadata": {
        "id": "9XaULfDZDvrC"
      },
      "outputs": [],
      "source": [
        "!pip install -r https://raw.githubusercontent.com/huggingface/deep-rl-class/main/notebooks/unit1/requirements-unit1.txt"
      ]
    },
    {
      "cell_type": "markdown",
      "metadata": {
        "id": "BEKeXQJsQCYm"
      },
      "source": [
        "During the notebook, we'll need to generate a replay video. To do so, with colab, **we need to have a virtual screen to be able to render the environment** (and thus record the frames).\n",
        "\n",
        "Hence the following cell will install virtual screen libraries and create and run a virtual screen 🖥"
      ]
    },
    {
      "cell_type": "code",
      "execution_count": null,
      "metadata": {
        "id": "j5f2cGkdP-mb"
      },
      "outputs": [],
      "source": [
        "!sudo apt-get update\n",
        "!sudo apt-get install -y python3-opengl\n",
        "!apt install ffmpeg\n",
        "!apt install xvfb\n",
        "!pip3 install pyvirtualdisplay"
      ]
    },
    {
      "cell_type": "markdown",
      "metadata": {
        "id": "TCwBTAwAW9JJ"
      },
      "source": [
        "To make sure the new installed libraries are used, **sometimes it's required to restart the notebook runtime**. The next cell will force the **runtime to crash, so you'll need to connect again and run the code starting from here**. Thanks to this trick, **we will be able to run our virtual screen.**"
      ]
    },
    {
      "cell_type": "code",
      "execution_count": null,
      "metadata": {
        "id": "cYvkbef7XEMi"
      },
      "outputs": [],
      "source": [
        "import os\n",
        "os.kill(os.getpid(), 9)"
      ]
    },
    {
      "cell_type": "code",
      "execution_count": null,
      "metadata": {
        "id": "BE5JWP5rQIKf"
      },
      "outputs": [],
      "source": [
        "# Virtual display\n",
        "from pyvirtualdisplay import Display\n",
        "\n",
        "virtual_display = Display(visible=0, size=(1400, 900))\n",
        "virtual_display.start()"
      ]
    },
    {
      "cell_type": "markdown",
      "metadata": {
        "id": "wrgpVFqyENVf"
      },
      "source": [
        "## Import the packages 📦\n",
        "\n",
        "One additional library we import is huggingface_hub **to be able to upload and download trained models from the hub**.\n",
        "\n",
        "\n",
        "The Hugging Face Hub 🤗 works as a central place where anyone can share and explore models and datasets. It has versioning, metrics, visualizations and other features that will allow you to easily collaborate with others.\n",
        "\n",
        "You can see here all the Deep reinforcement Learning models available here👉 https://huggingface.co/models?pipeline_tag=reinforcement-learning&sort=downloads\n",
        "\n"
      ]
    },
    {
      "cell_type": "code",
      "execution_count": 3,
      "metadata": {
        "id": "cygWLPGsEQ0m"
      },
      "outputs": [
        {
          "name": "stderr",
          "output_type": "stream",
          "text": [
            "/home/tomek/pytorch_learning/venv/lib/python3.10/site-packages/tqdm/auto.py:21: TqdmWarning: IProgress not found. Please update jupyter and ipywidgets. See https://ipywidgets.readthedocs.io/en/stable/user_install.html\n",
            "  from .autonotebook import tqdm as notebook_tqdm\n"
          ]
        }
      ],
      "source": [
        "import gymnasium\n",
        "\n",
        "from huggingface_sb3 import load_from_hub, package_to_hub\n",
        "from huggingface_hub import notebook_login # To log to our Hugging Face account to be able to upload models to the Hub.\n",
        "\n",
        "from stable_baselines3 import PPO\n",
        "from stable_baselines3.common.env_util import make_vec_env\n",
        "from stable_baselines3.common.evaluation import evaluate_policy\n",
        "from stable_baselines3.common.monitor import Monitor"
      ]
    },
    {
      "cell_type": "markdown",
      "metadata": {
        "id": "MRqRuRUl8CsB"
      },
      "source": [
        "## Understand Gymnasium and how it works 🤖\n",
        "\n",
        "🏋 The library containing our environment is called Gymnasium.\n",
        "**You'll use Gymnasium a lot in Deep Reinforcement Learning.**\n",
        "\n",
        "Gymnasium is the **new version of Gym library** [maintained by the Farama Foundation](https://farama.org/).\n",
        "\n",
        "The Gymnasium library provides two things:\n",
        "\n",
        "- An interface that allows you to **create RL environments**.\n",
        "- A **collection of environments** (gym-control, atari, box2D...).\n",
        "\n",
        "Let's look at an example, but first let's recall the RL loop.\n",
        "\n",
        "<img src=\"https://huggingface.co/datasets/huggingface-deep-rl-course/course-images/resolve/main/en/unit1/RL_process_game.jpg\" alt=\"The RL process\" width=\"100%\">"
      ]
    },
    {
      "cell_type": "markdown",
      "metadata": {
        "id": "-TzNN0bQ_j-3"
      },
      "source": [
        "At each step:\n",
        "- Our Agent receives a **state (S0)** from the **Environment** — we receive the first frame of our game (Environment).\n",
        "- Based on that **state (S0),** the Agent takes an **action (A0)** — our Agent will move to the right.\n",
        "- The environment transitions to a **new** **state (S1)** — new frame.\n",
        "- The environment gives some **reward (R1)** to the Agent — we’re not dead *(Positive Reward +1)*.\n",
        "\n",
        "\n",
        "With Gymnasium:\n",
        "\n",
        "1️⃣ We create our environment using `gymnasium.make()`\n",
        "\n",
        "2️⃣ We reset the environment to its initial state with `observation = env.reset()`\n",
        "\n",
        "At each step:\n",
        "\n",
        "3️⃣ Get an action using our model (in our example we take a random action)\n",
        "\n",
        "4️⃣ Using `env.step(action)`, we perform this action in the environment and get\n",
        "- `observation`: The new state (st+1)\n",
        "- `reward`: The reward we get after executing the action\n",
        "- `terminated`: Indicates if the episode terminated (agent reach the terminal state)\n",
        "- `truncated`: Introduced with this new version, it indicates a timelimit or if an agent go out of bounds of the environment for instance.\n",
        "- `info`: A dictionary that provides additional information (depends on the environment).\n",
        "\n",
        "For more explanations check this 👉 https://gymnasium.farama.org/api/env/#gymnasium.Env.step\n",
        "\n",
        "If the episode is terminated:\n",
        "- We reset the environment to its initial state with `observation = env.reset()`\n",
        "\n",
        "**Let's look at an example!** Make sure to read the code\n"
      ]
    },
    {
      "cell_type": "code",
      "execution_count": 5,
      "metadata": {
        "id": "w7vOFlpA_ONz"
      },
      "outputs": [
        {
          "name": "stdout",
          "output_type": "stream",
          "text": [
            "Action taken: 1\n",
            "Action taken: 0\n",
            "Action taken: 3\n",
            "Action taken: 0\n",
            "Action taken: 2\n",
            "Action taken: 3\n",
            "Action taken: 3\n",
            "Action taken: 3\n",
            "Action taken: 3\n",
            "Action taken: 0\n",
            "Action taken: 1\n",
            "Action taken: 2\n",
            "Action taken: 0\n",
            "Action taken: 3\n",
            "Action taken: 0\n",
            "Action taken: 2\n",
            "Action taken: 2\n",
            "Action taken: 2\n",
            "Action taken: 2\n",
            "Action taken: 3\n"
          ]
        }
      ],
      "source": [
        "import gymnasium as gym\n",
        "\n",
        "# First, we create our environment called LunarLander-v2\n",
        "env = gym.make(\"LunarLander-v2\")\n",
        "\n",
        "# Then we reset this environment\n",
        "observation, info = env.reset()\n",
        "\n",
        "for _ in range(20):\n",
        "  # Take a random action\n",
        "  action = env.action_space.sample()\n",
        "  print(\"Action taken:\", action)\n",
        "\n",
        "  # Do this action in the environment and get\n",
        "  # next_state, reward, terminated, truncated and info\n",
        "  observation, reward, terminated, truncated, info = env.step(action)\n",
        "\n",
        "  # If the game is terminated (in our case we land, crashed) or truncated (timeout)\n",
        "  if terminated or truncated:\n",
        "      # Reset the environment\n",
        "      print(\"Environment is reset\")\n",
        "      observation, info = env.reset()\n",
        "\n",
        "env.close()"
      ]
    },
    {
      "cell_type": "markdown",
      "metadata": {
        "id": "XIrKGGSlENZB"
      },
      "source": [
        "## Create the LunarLander environment 🌛 and understand how it works\n",
        "\n",
        "### [The environment 🎮](https://gymnasium.farama.org/environments/box2d/lunar_lander/)\n",
        "\n",
        "In this first tutorial, we’re going to train our agent, a [Lunar Lander](https://gymnasium.farama.org/environments/box2d/lunar_lander/), **to land correctly on the moon**. To do that, the agent needs to learn **to adapt its speed and position (horizontal, vertical, and angular) to land correctly.**\n",
        "\n",
        "---\n",
        "\n",
        "\n",
        "💡 A good habit when you start to use an environment is to check its documentation\n",
        "\n",
        "👉 https://gymnasium.farama.org/environments/box2d/lunar_lander/\n",
        "\n",
        "---\n"
      ]
    },
    {
      "cell_type": "markdown",
      "metadata": {
        "id": "poLBgRocF9aT"
      },
      "source": [
        "Let's see what the Environment looks like:\n"
      ]
    },
    {
      "cell_type": "code",
      "execution_count": 6,
      "metadata": {
        "id": "ZNPG0g_UGCfh"
      },
      "outputs": [
        {
          "name": "stdout",
          "output_type": "stream",
          "text": [
            "_____OBSERVATION SPACE_____ \n",
            "\n",
            "Observation Space Shape (8,)\n",
            "Sample observation [ 0.02674784  1.3059481  -2.497493    1.6283939   1.4759648  -0.42110828\n",
            "  0.52392536  0.8158902 ]\n"
          ]
        }
      ],
      "source": [
        "# We create our environment with gym.make(\"<name_of_the_environment>\")\n",
        "env = gym.make(\"LunarLander-v2\")\n",
        "env.reset()\n",
        "print(\"_____OBSERVATION SPACE_____ \\n\")\n",
        "print(\"Observation Space Shape\", env.observation_space.shape)\n",
        "print(\"Sample observation\", env.observation_space.sample()) # Get a random observation"
      ]
    },
    {
      "cell_type": "markdown",
      "metadata": {
        "id": "2MXc15qFE0M9"
      },
      "source": [
        "We see with `Observation Space Shape (8,)` that the observation is a vector of size 8, where each value contains different information about the lander:\n",
        "- Horizontal pad coordinate (x)\n",
        "- Vertical pad coordinate (y)\n",
        "- Horizontal speed (x)\n",
        "- Vertical speed (y)\n",
        "- Angle\n",
        "- Angular speed\n",
        "- If the left leg contact point has touched the land (boolean)\n",
        "- If the right leg contact point has touched the land (boolean)\n"
      ]
    },
    {
      "cell_type": "code",
      "execution_count": 7,
      "metadata": {
        "id": "We5WqOBGLoSm"
      },
      "outputs": [
        {
          "name": "stdout",
          "output_type": "stream",
          "text": [
            "\n",
            " _____ACTION SPACE_____ \n",
            "\n",
            "Action Space Shape 4\n",
            "Action Space Sample 3\n"
          ]
        }
      ],
      "source": [
        "print(\"\\n _____ACTION SPACE_____ \\n\")\n",
        "print(\"Action Space Shape\", env.action_space.n)\n",
        "print(\"Action Space Sample\", env.action_space.sample()) # Take a random action"
      ]
    },
    {
      "cell_type": "markdown",
      "metadata": {
        "id": "MyxXwkI2Magx"
      },
      "source": [
        "The action space (the set of possible actions the agent can take) is discrete with 4 actions available 🎮:\n",
        "\n",
        "- Action 0: Do nothing,\n",
        "- Action 1: Fire left orientation engine,\n",
        "- Action 2: Fire the main engine,\n",
        "- Action 3: Fire right orientation engine.\n",
        "\n",
        "Reward function (the function that will give a reward at each timestep) 💰:\n",
        "\n",
        "After every step a reward is granted. The total reward of an episode is the **sum of the rewards for all the steps within that episode**.\n",
        "\n",
        "For each step, the reward:\n",
        "\n",
        "- Is increased/decreased the closer/further the lander is to the landing pad.\n",
        "-  Is increased/decreased the slower/faster the lander is moving.\n",
        "- Is decreased the more the lander is tilted (angle not horizontal).\n",
        "- Is increased by 10 points for each leg that is in contact with the ground.\n",
        "- Is decreased by 0.03 points each frame a side engine is firing.\n",
        "- Is decreased by 0.3 points each frame the main engine is firing.\n",
        "\n",
        "The episode receive an **additional reward of -100 or +100 points for crashing or landing safely respectively.**\n",
        "\n",
        "An episode is **considered a solution if it scores at least 200 points.**"
      ]
    },
    {
      "cell_type": "markdown",
      "metadata": {
        "id": "dFD9RAFjG8aq"
      },
      "source": [
        "#### Vectorized Environment\n",
        "\n",
        "- We create a vectorized environment (a method for stacking multiple independent environments into a single environment) of 16 environments, this way, **we'll have more diverse experiences during the training.**"
      ]
    },
    {
      "cell_type": "code",
      "execution_count": 8,
      "metadata": {
        "id": "99hqQ_etEy1N"
      },
      "outputs": [],
      "source": [
        "# Create the environment\n",
        "env = make_vec_env('LunarLander-v2', n_envs=16)"
      ]
    },
    {
      "cell_type": "markdown",
      "metadata": {
        "id": "VgrE86r5E5IK"
      },
      "source": [
        "## Create the Model 🤖\n",
        "- We have studied our environment and we understood the problem: **being able to land the Lunar Lander to the Landing Pad correctly by controlling left, right and main orientation engine**. Now let's build the algorithm we're going to use to solve this Problem 🚀.\n",
        "\n",
        "- To do so, we're going to use our first Deep RL library, [Stable Baselines3 (SB3)](https://stable-baselines3.readthedocs.io/en/master/).\n",
        "\n",
        "- SB3 is a set of **reliable implementations of reinforcement learning algorithms in PyTorch**.\n",
        "\n",
        "---\n",
        "\n",
        "💡 A good habit when using a new library is to dive first on the documentation: https://stable-baselines3.readthedocs.io/en/master/ and then try some tutorials.\n",
        "\n",
        "----"
      ]
    },
    {
      "cell_type": "markdown",
      "metadata": {
        "id": "HLlClRW37Q7e"
      },
      "source": [
        "<img src=\"https://huggingface.co/datasets/huggingface-deep-rl-course/course-images/resolve/main/en/unit1/sb3.png\" alt=\"Stable Baselines3\">"
      ]
    },
    {
      "cell_type": "markdown",
      "metadata": {
        "id": "HV4yiUM_9_Ka"
      },
      "source": [
        "To solve this problem, we're going to use SB3 **PPO**. [PPO (aka Proximal Policy Optimization) is one of the SOTA (state of the art) Deep Reinforcement Learning algorithms that you'll study during this course](https://stable-baselines3.readthedocs.io/en/master/modules/ppo.html#example%5D).\n",
        "\n",
        "PPO is a combination of:\n",
        "- *Value-based reinforcement learning method*: learning an action-value function that will tell us the **most valuable action to take given a state and action**.\n",
        "- *Policy-based reinforcement learning method*: learning a policy that will **give us a probability distribution over actions**."
      ]
    },
    {
      "cell_type": "markdown",
      "metadata": {
        "id": "5qL_4HeIOrEJ"
      },
      "source": [
        "Stable-Baselines3 is easy to set up:\n",
        "\n",
        "1️⃣ You **create your environment** (in our case it was done above)\n",
        "\n",
        "2️⃣ You define the **model you want to use and instantiate this model** `model = PPO(\"MlpPolicy\")`\n",
        "\n",
        "3️⃣ You **train the agent** with `model.learn` and define the number of training timesteps\n",
        "\n",
        "```\n",
        "# Create environment\n",
        "env = gym.make('LunarLander-v2')\n",
        "\n",
        "# Instantiate the agent\n",
        "model = PPO('MlpPolicy', env, verbose=1)\n",
        "# Train the agent\n",
        "model.learn(total_timesteps=int(2e5))\n",
        "```\n",
        "\n"
      ]
    },
    {
      "cell_type": "code",
      "execution_count": 9,
      "metadata": {
        "id": "nxI6hT1GE4-A"
      },
      "outputs": [
        {
          "name": "stdout",
          "output_type": "stream",
          "text": [
            "Using cuda device\n"
          ]
        }
      ],
      "source": [
        "# TODO: Define a PPO MlpPolicy architecture\n",
        "# We use MultiLayerPerceptron (MLPPolicy) because the input is a vector,\n",
        "# if we had frames as input we would use CnnPolicy\n",
        "model = PPO(\"MlpPolicy\", env, verbose=1)"
      ]
    },
    {
      "cell_type": "markdown",
      "metadata": {
        "id": "QAN7B0_HCVZC"
      },
      "source": [
        "#### Solution"
      ]
    },
    {
      "cell_type": "code",
      "execution_count": null,
      "metadata": {
        "id": "543OHYDfcjK4"
      },
      "outputs": [],
      "source": [
        "# SOLUTION\n",
        "# We added some parameters to accelerate the training\n",
        "model = PPO(\n",
        "    policy = 'MlpPolicy',\n",
        "    env = env,\n",
        "    n_steps = 1024,\n",
        "    batch_size = 64,\n",
        "    n_epochs = 4,\n",
        "    gamma = 0.999,\n",
        "    gae_lambda = 0.98,\n",
        "    ent_coef = 0.01,\n",
        "    verbose=1)"
      ]
    },
    {
      "cell_type": "markdown",
      "metadata": {
        "id": "ClJJk88yoBUi"
      },
      "source": [
        "## Train the PPO agent 🏃\n",
        "- Let's train our agent for 1,000,000 timesteps, don't forget to use GPU on Colab. It will take approximately ~20min, but you can use fewer timesteps if you just want to try it out.\n",
        "- During the training, take a ☕ break you deserved it 🤗"
      ]
    },
    {
      "cell_type": "code",
      "execution_count": 10,
      "metadata": {
        "id": "qKnYkNiVp89p"
      },
      "outputs": [
        {
          "name": "stdout",
          "output_type": "stream",
          "text": [
            "---------------------------------\n",
            "| rollout/           |          |\n",
            "|    ep_len_mean     | 91.3     |\n",
            "|    ep_rew_mean     | -182     |\n",
            "| time/              |          |\n",
            "|    fps             | 1388     |\n",
            "|    iterations      | 1        |\n",
            "|    time_elapsed    | 23       |\n",
            "|    total_timesteps | 32768    |\n",
            "---------------------------------\n",
            "-----------------------------------------\n",
            "| rollout/                |             |\n",
            "|    ep_len_mean          | 116         |\n",
            "|    ep_rew_mean          | -137        |\n",
            "| time/                   |             |\n",
            "|    fps                  | 1026        |\n",
            "|    iterations           | 2           |\n",
            "|    time_elapsed         | 63          |\n",
            "|    total_timesteps      | 65536       |\n",
            "| train/                  |             |\n",
            "|    approx_kl            | 0.010584971 |\n",
            "|    clip_fraction        | 0.0828      |\n",
            "|    clip_range           | 0.2         |\n",
            "|    entropy_loss         | -1.38       |\n",
            "|    explained_variance   | -0.00123    |\n",
            "|    learning_rate        | 0.0003      |\n",
            "|    loss                 | 223         |\n",
            "|    n_updates            | 10          |\n",
            "|    policy_gradient_loss | -0.0076     |\n",
            "|    value_loss           | 767         |\n",
            "-----------------------------------------\n",
            "-----------------------------------------\n",
            "| rollout/                |             |\n",
            "|    ep_len_mean          | 103         |\n",
            "|    ep_rew_mean          | -105        |\n",
            "| time/                   |             |\n",
            "|    fps                  | 852         |\n",
            "|    iterations           | 3           |\n",
            "|    time_elapsed         | 115         |\n",
            "|    total_timesteps      | 98304       |\n",
            "| train/                  |             |\n",
            "|    approx_kl            | 0.013081316 |\n",
            "|    clip_fraction        | 0.169       |\n",
            "|    clip_range           | 0.2         |\n",
            "|    entropy_loss         | -1.34       |\n",
            "|    explained_variance   | 0.487       |\n",
            "|    learning_rate        | 0.0003      |\n",
            "|    loss                 | 116         |\n",
            "|    n_updates            | 20          |\n",
            "|    policy_gradient_loss | -0.014      |\n",
            "|    value_loss           | 275         |\n",
            "-----------------------------------------\n",
            "-----------------------------------------\n",
            "| rollout/                |             |\n",
            "|    ep_len_mean          | 117         |\n",
            "|    ep_rew_mean          | -69.5       |\n",
            "| time/                   |             |\n",
            "|    fps                  | 748         |\n",
            "|    iterations           | 4           |\n",
            "|    time_elapsed         | 175         |\n",
            "|    total_timesteps      | 131072      |\n",
            "| train/                  |             |\n",
            "|    approx_kl            | 0.012597772 |\n",
            "|    clip_fraction        | 0.2         |\n",
            "|    clip_range           | 0.2         |\n",
            "|    entropy_loss         | -1.3        |\n",
            "|    explained_variance   | 0.611       |\n",
            "|    learning_rate        | 0.0003      |\n",
            "|    loss                 | 164         |\n",
            "|    n_updates            | 30          |\n",
            "|    policy_gradient_loss | -0.0176     |\n",
            "|    value_loss           | 221         |\n",
            "-----------------------------------------\n",
            "-----------------------------------------\n",
            "| rollout/                |             |\n",
            "|    ep_len_mean          | 131         |\n",
            "|    ep_rew_mean          | -42.6       |\n",
            "| time/                   |             |\n",
            "|    fps                  | 673         |\n",
            "|    iterations           | 5           |\n",
            "|    time_elapsed         | 243         |\n",
            "|    total_timesteps      | 163840      |\n",
            "| train/                  |             |\n",
            "|    approx_kl            | 0.015292866 |\n",
            "|    clip_fraction        | 0.269       |\n",
            "|    clip_range           | 0.2         |\n",
            "|    entropy_loss         | -1.24       |\n",
            "|    explained_variance   | 0.74        |\n",
            "|    learning_rate        | 0.0003      |\n",
            "|    loss                 | 32.2        |\n",
            "|    n_updates            | 40          |\n",
            "|    policy_gradient_loss | -0.0258     |\n",
            "|    value_loss           | 112         |\n",
            "-----------------------------------------\n",
            "-----------------------------------------\n",
            "| rollout/                |             |\n",
            "|    ep_len_mean          | 153         |\n",
            "|    ep_rew_mean          | -23         |\n",
            "| time/                   |             |\n",
            "|    fps                  | 621         |\n",
            "|    iterations           | 6           |\n",
            "|    time_elapsed         | 316         |\n",
            "|    total_timesteps      | 196608      |\n",
            "| train/                  |             |\n",
            "|    approx_kl            | 0.015457825 |\n",
            "|    clip_fraction        | 0.251       |\n",
            "|    clip_range           | 0.2         |\n",
            "|    entropy_loss         | -1.17       |\n",
            "|    explained_variance   | 0.832       |\n",
            "|    learning_rate        | 0.0003      |\n",
            "|    loss                 | 19.6        |\n",
            "|    n_updates            | 50          |\n",
            "|    policy_gradient_loss | -0.0252     |\n",
            "|    value_loss           | 71          |\n",
            "-----------------------------------------\n",
            "-----------------------------------------\n",
            "| rollout/                |             |\n",
            "|    ep_len_mean          | 356         |\n",
            "|    ep_rew_mean          | 3.83        |\n",
            "| time/                   |             |\n",
            "|    fps                  | 571         |\n",
            "|    iterations           | 7           |\n",
            "|    time_elapsed         | 401         |\n",
            "|    total_timesteps      | 229376      |\n",
            "| train/                  |             |\n",
            "|    approx_kl            | 0.015950691 |\n",
            "|    clip_fraction        | 0.235       |\n",
            "|    clip_range           | 0.2         |\n",
            "|    entropy_loss         | -1.08       |\n",
            "|    explained_variance   | 0.883       |\n",
            "|    learning_rate        | 0.0003      |\n",
            "|    loss                 | 18          |\n",
            "|    n_updates            | 60          |\n",
            "|    policy_gradient_loss | -0.0233     |\n",
            "|    value_loss           | 58.8        |\n",
            "-----------------------------------------\n",
            "-----------------------------------------\n",
            "| rollout/                |             |\n",
            "|    ep_len_mean          | 567         |\n",
            "|    ep_rew_mean          | 11.1        |\n",
            "| time/                   |             |\n",
            "|    fps                  | 551         |\n",
            "|    iterations           | 8           |\n",
            "|    time_elapsed         | 475         |\n",
            "|    total_timesteps      | 262144      |\n",
            "| train/                  |             |\n",
            "|    approx_kl            | 0.011573991 |\n",
            "|    clip_fraction        | 0.128       |\n",
            "|    clip_range           | 0.2         |\n",
            "|    entropy_loss         | -1.08       |\n",
            "|    explained_variance   | 0.823       |\n",
            "|    learning_rate        | 0.0003      |\n",
            "|    loss                 | 25.6        |\n",
            "|    n_updates            | 70          |\n",
            "|    policy_gradient_loss | -0.0118     |\n",
            "|    value_loss           | 71.9        |\n",
            "-----------------------------------------\n",
            "-----------------------------------------\n",
            "| rollout/                |             |\n",
            "|    ep_len_mean          | 740         |\n",
            "|    ep_rew_mean          | 26          |\n",
            "| time/                   |             |\n",
            "|    fps                  | 519         |\n",
            "|    iterations           | 9           |\n",
            "|    time_elapsed         | 568         |\n",
            "|    total_timesteps      | 294912      |\n",
            "| train/                  |             |\n",
            "|    approx_kl            | 0.010661399 |\n",
            "|    clip_fraction        | 0.119       |\n",
            "|    clip_range           | 0.2         |\n",
            "|    entropy_loss         | -1.06       |\n",
            "|    explained_variance   | 0.854       |\n",
            "|    learning_rate        | 0.0003      |\n",
            "|    loss                 | 9.44        |\n",
            "|    n_updates            | 80          |\n",
            "|    policy_gradient_loss | -0.00897    |\n",
            "|    value_loss           | 47.2        |\n",
            "-----------------------------------------\n",
            "-----------------------------------------\n",
            "| rollout/                |             |\n",
            "|    ep_len_mean          | 877         |\n",
            "|    ep_rew_mean          | 47.8        |\n",
            "| time/                   |             |\n",
            "|    fps                  | 510         |\n",
            "|    iterations           | 10          |\n",
            "|    time_elapsed         | 641         |\n",
            "|    total_timesteps      | 327680      |\n",
            "| train/                  |             |\n",
            "|    approx_kl            | 0.009046648 |\n",
            "|    clip_fraction        | 0.115       |\n",
            "|    clip_range           | 0.2         |\n",
            "|    entropy_loss         | -1.07       |\n",
            "|    explained_variance   | 0.872       |\n",
            "|    learning_rate        | 0.0003      |\n",
            "|    loss                 | 17.5        |\n",
            "|    n_updates            | 90          |\n",
            "|    policy_gradient_loss | -0.00703    |\n",
            "|    value_loss           | 23.5        |\n",
            "-----------------------------------------\n",
            "-----------------------------------------\n",
            "| rollout/                |             |\n",
            "|    ep_len_mean          | 932         |\n",
            "|    ep_rew_mean          | 72.9        |\n",
            "| time/                   |             |\n",
            "|    fps                  | 505         |\n",
            "|    iterations           | 11          |\n",
            "|    time_elapsed         | 712         |\n",
            "|    total_timesteps      | 360448      |\n",
            "| train/                  |             |\n",
            "|    approx_kl            | 0.009164148 |\n",
            "|    clip_fraction        | 0.116       |\n",
            "|    clip_range           | 0.2         |\n",
            "|    entropy_loss         | -1.05       |\n",
            "|    explained_variance   | 0.913       |\n",
            "|    learning_rate        | 0.0003      |\n",
            "|    loss                 | 3.18        |\n",
            "|    n_updates            | 100         |\n",
            "|    policy_gradient_loss | -0.00756    |\n",
            "|    value_loss           | 12.6        |\n",
            "-----------------------------------------\n",
            "-----------------------------------------\n",
            "| rollout/                |             |\n",
            "|    ep_len_mean          | 951         |\n",
            "|    ep_rew_mean          | 84.7        |\n",
            "| time/                   |             |\n",
            "|    fps                  | 507         |\n",
            "|    iterations           | 12          |\n",
            "|    time_elapsed         | 774         |\n",
            "|    total_timesteps      | 393216      |\n",
            "| train/                  |             |\n",
            "|    approx_kl            | 0.011052549 |\n",
            "|    clip_fraction        | 0.122       |\n",
            "|    clip_range           | 0.2         |\n",
            "|    entropy_loss         | -1.07       |\n",
            "|    explained_variance   | 0.898       |\n",
            "|    learning_rate        | 0.0003      |\n",
            "|    loss                 | 13.4        |\n",
            "|    n_updates            | 110         |\n",
            "|    policy_gradient_loss | -0.00719    |\n",
            "|    value_loss           | 14.6        |\n",
            "-----------------------------------------\n",
            "-----------------------------------------\n",
            "| rollout/                |             |\n",
            "|    ep_len_mean          | 955         |\n",
            "|    ep_rew_mean          | 93.5        |\n",
            "| time/                   |             |\n",
            "|    fps                  | 508         |\n",
            "|    iterations           | 13          |\n",
            "|    time_elapsed         | 837         |\n",
            "|    total_timesteps      | 425984      |\n",
            "| train/                  |             |\n",
            "|    approx_kl            | 0.011371289 |\n",
            "|    clip_fraction        | 0.13        |\n",
            "|    clip_range           | 0.2         |\n",
            "|    entropy_loss         | -1.02       |\n",
            "|    explained_variance   | 0.96        |\n",
            "|    learning_rate        | 0.0003      |\n",
            "|    loss                 | 0.783       |\n",
            "|    n_updates            | 120         |\n",
            "|    policy_gradient_loss | -0.00877    |\n",
            "|    value_loss           | 5.36        |\n",
            "-----------------------------------------\n",
            "-----------------------------------------\n",
            "| rollout/                |             |\n",
            "|    ep_len_mean          | 973         |\n",
            "|    ep_rew_mean          | 108         |\n",
            "| time/                   |             |\n",
            "|    fps                  | 510         |\n",
            "|    iterations           | 14          |\n",
            "|    time_elapsed         | 899         |\n",
            "|    total_timesteps      | 458752      |\n",
            "| train/                  |             |\n",
            "|    approx_kl            | 0.007209787 |\n",
            "|    clip_fraction        | 0.0799      |\n",
            "|    clip_range           | 0.2         |\n",
            "|    entropy_loss         | -0.991      |\n",
            "|    explained_variance   | 0.932       |\n",
            "|    learning_rate        | 0.0003      |\n",
            "|    loss                 | 1.17        |\n",
            "|    n_updates            | 130         |\n",
            "|    policy_gradient_loss | -0.00437    |\n",
            "|    value_loss           | 12.7        |\n",
            "-----------------------------------------\n",
            "------------------------------------------\n",
            "| rollout/                |              |\n",
            "|    ep_len_mean          | 900          |\n",
            "|    ep_rew_mean          | 106          |\n",
            "| time/                   |              |\n",
            "|    fps                  | 512          |\n",
            "|    iterations           | 15           |\n",
            "|    time_elapsed         | 959          |\n",
            "|    total_timesteps      | 491520       |\n",
            "| train/                  |              |\n",
            "|    approx_kl            | 0.0077513237 |\n",
            "|    clip_fraction        | 0.0942       |\n",
            "|    clip_range           | 0.2          |\n",
            "|    entropy_loss         | -0.977       |\n",
            "|    explained_variance   | 0.971        |\n",
            "|    learning_rate        | 0.0003       |\n",
            "|    loss                 | 0.481        |\n",
            "|    n_updates            | 140          |\n",
            "|    policy_gradient_loss | -0.00619     |\n",
            "|    value_loss           | 4.73         |\n",
            "------------------------------------------\n",
            "-----------------------------------------\n",
            "| rollout/                |             |\n",
            "|    ep_len_mean          | 873         |\n",
            "|    ep_rew_mean          | 106         |\n",
            "| time/                   |             |\n",
            "|    fps                  | 514         |\n",
            "|    iterations           | 16          |\n",
            "|    time_elapsed         | 1018        |\n",
            "|    total_timesteps      | 524288      |\n",
            "| train/                  |             |\n",
            "|    approx_kl            | 0.008031527 |\n",
            "|    clip_fraction        | 0.0767      |\n",
            "|    clip_range           | 0.2         |\n",
            "|    entropy_loss         | -0.943      |\n",
            "|    explained_variance   | 0.875       |\n",
            "|    learning_rate        | 0.0003      |\n",
            "|    loss                 | 1.6         |\n",
            "|    n_updates            | 150         |\n",
            "|    policy_gradient_loss | -0.00353    |\n",
            "|    value_loss           | 22.7        |\n",
            "-----------------------------------------\n",
            "------------------------------------------\n",
            "| rollout/                |              |\n",
            "|    ep_len_mean          | 841          |\n",
            "|    ep_rew_mean          | 115          |\n",
            "| time/                   |              |\n",
            "|    fps                  | 517          |\n",
            "|    iterations           | 17           |\n",
            "|    time_elapsed         | 1076         |\n",
            "|    total_timesteps      | 557056       |\n",
            "| train/                  |              |\n",
            "|    approx_kl            | 0.0058577685 |\n",
            "|    clip_fraction        | 0.0631       |\n",
            "|    clip_range           | 0.2          |\n",
            "|    entropy_loss         | -0.865       |\n",
            "|    explained_variance   | 0.901        |\n",
            "|    learning_rate        | 0.0003       |\n",
            "|    loss                 | 1.57         |\n",
            "|    n_updates            | 160          |\n",
            "|    policy_gradient_loss | -0.00231     |\n",
            "|    value_loss           | 25.1         |\n",
            "------------------------------------------\n",
            "----------------------------------------\n",
            "| rollout/                |            |\n",
            "|    ep_len_mean          | 762        |\n",
            "|    ep_rew_mean          | 130        |\n",
            "| time/                   |            |\n",
            "|    fps                  | 520        |\n",
            "|    iterations           | 18         |\n",
            "|    time_elapsed         | 1134       |\n",
            "|    total_timesteps      | 589824     |\n",
            "| train/                  |            |\n",
            "|    approx_kl            | 0.00624652 |\n",
            "|    clip_fraction        | 0.0741     |\n",
            "|    clip_range           | 0.2        |\n",
            "|    entropy_loss         | -0.782     |\n",
            "|    explained_variance   | 0.857      |\n",
            "|    learning_rate        | 0.0003     |\n",
            "|    loss                 | 1.73       |\n",
            "|    n_updates            | 170        |\n",
            "|    policy_gradient_loss | -0.00215   |\n",
            "|    value_loss           | 40.6       |\n",
            "----------------------------------------\n",
            "-----------------------------------------\n",
            "| rollout/                |             |\n",
            "|    ep_len_mean          | 736         |\n",
            "|    ep_rew_mean          | 153         |\n",
            "| time/                   |             |\n",
            "|    fps                  | 522         |\n",
            "|    iterations           | 19          |\n",
            "|    time_elapsed         | 1191        |\n",
            "|    total_timesteps      | 622592      |\n",
            "| train/                  |             |\n",
            "|    approx_kl            | 0.006537986 |\n",
            "|    clip_fraction        | 0.0832      |\n",
            "|    clip_range           | 0.2         |\n",
            "|    entropy_loss         | -0.739      |\n",
            "|    explained_variance   | 0.818       |\n",
            "|    learning_rate        | 0.0003      |\n",
            "|    loss                 | 7.35        |\n",
            "|    n_updates            | 180         |\n",
            "|    policy_gradient_loss | -0.00315    |\n",
            "|    value_loss           | 69.5        |\n",
            "-----------------------------------------\n",
            "-----------------------------------------\n",
            "| rollout/                |             |\n",
            "|    ep_len_mean          | 587         |\n",
            "|    ep_rew_mean          | 169         |\n",
            "| time/                   |             |\n",
            "|    fps                  | 526         |\n",
            "|    iterations           | 20          |\n",
            "|    time_elapsed         | 1245        |\n",
            "|    total_timesteps      | 655360      |\n",
            "| train/                  |             |\n",
            "|    approx_kl            | 0.011176355 |\n",
            "|    clip_fraction        | 0.112       |\n",
            "|    clip_range           | 0.2         |\n",
            "|    entropy_loss         | -0.696      |\n",
            "|    explained_variance   | 0.796       |\n",
            "|    learning_rate        | 0.0003      |\n",
            "|    loss                 | 3.57        |\n",
            "|    n_updates            | 190         |\n",
            "|    policy_gradient_loss | -0.00361    |\n",
            "|    value_loss           | 77.9        |\n",
            "-----------------------------------------\n",
            "-----------------------------------------\n",
            "| rollout/                |             |\n",
            "|    ep_len_mean          | 489         |\n",
            "|    ep_rew_mean          | 195         |\n",
            "| time/                   |             |\n",
            "|    fps                  | 530         |\n",
            "|    iterations           | 21          |\n",
            "|    time_elapsed         | 1298        |\n",
            "|    total_timesteps      | 688128      |\n",
            "| train/                  |             |\n",
            "|    approx_kl            | 0.020813685 |\n",
            "|    clip_fraction        | 0.106       |\n",
            "|    clip_range           | 0.2         |\n",
            "|    entropy_loss         | -0.675      |\n",
            "|    explained_variance   | 0.721       |\n",
            "|    learning_rate        | 0.0003      |\n",
            "|    loss                 | 112         |\n",
            "|    n_updates            | 200         |\n",
            "|    policy_gradient_loss | -0.00445    |\n",
            "|    value_loss           | 135         |\n",
            "-----------------------------------------\n",
            "-----------------------------------------\n",
            "| rollout/                |             |\n",
            "|    ep_len_mean          | 394         |\n",
            "|    ep_rew_mean          | 202         |\n",
            "| time/                   |             |\n",
            "|    fps                  | 533         |\n",
            "|    iterations           | 22          |\n",
            "|    time_elapsed         | 1352        |\n",
            "|    total_timesteps      | 720896      |\n",
            "| train/                  |             |\n",
            "|    approx_kl            | 0.006503389 |\n",
            "|    clip_fraction        | 0.0672      |\n",
            "|    clip_range           | 0.2         |\n",
            "|    entropy_loss         | -0.716      |\n",
            "|    explained_variance   | 0.733       |\n",
            "|    learning_rate        | 0.0003      |\n",
            "|    loss                 | 77          |\n",
            "|    n_updates            | 210         |\n",
            "|    policy_gradient_loss | -0.00273    |\n",
            "|    value_loss           | 116         |\n",
            "-----------------------------------------\n",
            "-----------------------------------------\n",
            "| rollout/                |             |\n",
            "|    ep_len_mean          | 377         |\n",
            "|    ep_rew_mean          | 221         |\n",
            "| time/                   |             |\n",
            "|    fps                  | 536         |\n",
            "|    iterations           | 23          |\n",
            "|    time_elapsed         | 1404        |\n",
            "|    total_timesteps      | 753664      |\n",
            "| train/                  |             |\n",
            "|    approx_kl            | 0.006528112 |\n",
            "|    clip_fraction        | 0.0694      |\n",
            "|    clip_range           | 0.2         |\n",
            "|    entropy_loss         | -0.761      |\n",
            "|    explained_variance   | 0.732       |\n",
            "|    learning_rate        | 0.0003      |\n",
            "|    loss                 | 33.1        |\n",
            "|    n_updates            | 220         |\n",
            "|    policy_gradient_loss | -0.00166    |\n",
            "|    value_loss           | 118         |\n",
            "-----------------------------------------\n",
            "-----------------------------------------\n",
            "| rollout/                |             |\n",
            "|    ep_len_mean          | 378         |\n",
            "|    ep_rew_mean          | 206         |\n",
            "| time/                   |             |\n",
            "|    fps                  | 540         |\n",
            "|    iterations           | 24          |\n",
            "|    time_elapsed         | 1455        |\n",
            "|    total_timesteps      | 786432      |\n",
            "| train/                  |             |\n",
            "|    approx_kl            | 0.007954698 |\n",
            "|    clip_fraction        | 0.0853      |\n",
            "|    clip_range           | 0.2         |\n",
            "|    entropy_loss         | -0.777      |\n",
            "|    explained_variance   | 0.786       |\n",
            "|    learning_rate        | 0.0003      |\n",
            "|    loss                 | 30.3        |\n",
            "|    n_updates            | 230         |\n",
            "|    policy_gradient_loss | -0.0022     |\n",
            "|    value_loss           | 99.4        |\n",
            "-----------------------------------------\n",
            "-----------------------------------------\n",
            "| rollout/                |             |\n",
            "|    ep_len_mean          | 355         |\n",
            "|    ep_rew_mean          | 211         |\n",
            "| time/                   |             |\n",
            "|    fps                  | 542         |\n",
            "|    iterations           | 25          |\n",
            "|    time_elapsed         | 1509        |\n",
            "|    total_timesteps      | 819200      |\n",
            "| train/                  |             |\n",
            "|    approx_kl            | 0.007319512 |\n",
            "|    clip_fraction        | 0.0909      |\n",
            "|    clip_range           | 0.2         |\n",
            "|    entropy_loss         | -0.77       |\n",
            "|    explained_variance   | 0.823       |\n",
            "|    learning_rate        | 0.0003      |\n",
            "|    loss                 | 24.2        |\n",
            "|    n_updates            | 240         |\n",
            "|    policy_gradient_loss | -0.00183    |\n",
            "|    value_loss           | 97.7        |\n",
            "-----------------------------------------\n",
            "-----------------------------------------\n",
            "| rollout/                |             |\n",
            "|    ep_len_mean          | 368         |\n",
            "|    ep_rew_mean          | 214         |\n",
            "| time/                   |             |\n",
            "|    fps                  | 545         |\n",
            "|    iterations           | 26          |\n",
            "|    time_elapsed         | 1562        |\n",
            "|    total_timesteps      | 851968      |\n",
            "| train/                  |             |\n",
            "|    approx_kl            | 0.005107782 |\n",
            "|    clip_fraction        | 0.069       |\n",
            "|    clip_range           | 0.2         |\n",
            "|    entropy_loss         | -0.737      |\n",
            "|    explained_variance   | 0.854       |\n",
            "|    learning_rate        | 0.0003      |\n",
            "|    loss                 | 11.7        |\n",
            "|    n_updates            | 250         |\n",
            "|    policy_gradient_loss | -0.00105    |\n",
            "|    value_loss           | 97          |\n",
            "-----------------------------------------\n",
            "----------------------------------------\n",
            "| rollout/                |            |\n",
            "|    ep_len_mean          | 361        |\n",
            "|    ep_rew_mean          | 214        |\n",
            "| time/                   |            |\n",
            "|    fps                  | 546        |\n",
            "|    iterations           | 27         |\n",
            "|    time_elapsed         | 1619       |\n",
            "|    total_timesteps      | 884736     |\n",
            "| train/                  |            |\n",
            "|    approx_kl            | 0.00670883 |\n",
            "|    clip_fraction        | 0.0899     |\n",
            "|    clip_range           | 0.2        |\n",
            "|    entropy_loss         | -0.724     |\n",
            "|    explained_variance   | 0.882      |\n",
            "|    learning_rate        | 0.0003     |\n",
            "|    loss                 | 19.9       |\n",
            "|    n_updates            | 260        |\n",
            "|    policy_gradient_loss | -0.0013    |\n",
            "|    value_loss           | 75.4       |\n",
            "----------------------------------------\n",
            "------------------------------------------\n",
            "| rollout/                |              |\n",
            "|    ep_len_mean          | 349          |\n",
            "|    ep_rew_mean          | 217          |\n",
            "| time/                   |              |\n",
            "|    fps                  | 549          |\n",
            "|    iterations           | 28           |\n",
            "|    time_elapsed         | 1669         |\n",
            "|    total_timesteps      | 917504       |\n",
            "| train/                  |              |\n",
            "|    approx_kl            | 0.0044191075 |\n",
            "|    clip_fraction        | 0.0451       |\n",
            "|    clip_range           | 0.2          |\n",
            "|    entropy_loss         | -0.699       |\n",
            "|    explained_variance   | 0.877        |\n",
            "|    learning_rate        | 0.0003       |\n",
            "|    loss                 | 77.6         |\n",
            "|    n_updates            | 270          |\n",
            "|    policy_gradient_loss | -0.00119     |\n",
            "|    value_loss           | 94.4         |\n",
            "------------------------------------------\n",
            "------------------------------------------\n",
            "| rollout/                |              |\n",
            "|    ep_len_mean          | 386          |\n",
            "|    ep_rew_mean          | 226          |\n",
            "| time/                   |              |\n",
            "|    fps                  | 553          |\n",
            "|    iterations           | 29           |\n",
            "|    time_elapsed         | 1717         |\n",
            "|    total_timesteps      | 950272       |\n",
            "| train/                  |              |\n",
            "|    approx_kl            | 0.0038175653 |\n",
            "|    clip_fraction        | 0.0479       |\n",
            "|    clip_range           | 0.2          |\n",
            "|    entropy_loss         | -0.679       |\n",
            "|    explained_variance   | 0.873        |\n",
            "|    learning_rate        | 0.0003       |\n",
            "|    loss                 | 51.4         |\n",
            "|    n_updates            | 280          |\n",
            "|    policy_gradient_loss | -0.000427    |\n",
            "|    value_loss           | 87.9         |\n",
            "------------------------------------------\n",
            "------------------------------------------\n",
            "| rollout/                |              |\n",
            "|    ep_len_mean          | 372          |\n",
            "|    ep_rew_mean          | 227          |\n",
            "| time/                   |              |\n",
            "|    fps                  | 557          |\n",
            "|    iterations           | 30           |\n",
            "|    time_elapsed         | 1761         |\n",
            "|    total_timesteps      | 983040       |\n",
            "| train/                  |              |\n",
            "|    approx_kl            | 0.0039697085 |\n",
            "|    clip_fraction        | 0.0456       |\n",
            "|    clip_range           | 0.2          |\n",
            "|    entropy_loss         | -0.679       |\n",
            "|    explained_variance   | 0.92         |\n",
            "|    learning_rate        | 0.0003       |\n",
            "|    loss                 | 27.4         |\n",
            "|    n_updates            | 290          |\n",
            "|    policy_gradient_loss | -0.00043     |\n",
            "|    value_loss           | 53.5         |\n",
            "------------------------------------------\n",
            "-----------------------------------------\n",
            "| rollout/                |             |\n",
            "|    ep_len_mean          | 405         |\n",
            "|    ep_rew_mean          | 220         |\n",
            "| time/                   |             |\n",
            "|    fps                  | 559         |\n",
            "|    iterations           | 31          |\n",
            "|    time_elapsed         | 1814        |\n",
            "|    total_timesteps      | 1015808     |\n",
            "| train/                  |             |\n",
            "|    approx_kl            | 0.004942076 |\n",
            "|    clip_fraction        | 0.0661      |\n",
            "|    clip_range           | 0.2         |\n",
            "|    entropy_loss         | -0.676      |\n",
            "|    explained_variance   | 0.923       |\n",
            "|    learning_rate        | 0.0003      |\n",
            "|    loss                 | 33.1        |\n",
            "|    n_updates            | 300         |\n",
            "|    policy_gradient_loss | -0.001      |\n",
            "|    value_loss           | 56.5        |\n",
            "-----------------------------------------\n"
          ]
        }
      ],
      "source": [
        "# TODO: Train it for 1,000,000 timesteps\n",
        "model.learn(total_timesteps=1000000)\n",
        "# TODO: Specify file name for model and save the model to file\n",
        "model_name = \"ppo-LunarLander-v2\"\n"
      ]
    },
    {
      "cell_type": "code",
      "execution_count": 11,
      "metadata": {},
      "outputs": [],
      "source": [
        "model.save(model_name)"
      ]
    },
    {
      "cell_type": "markdown",
      "metadata": {
        "id": "1bQzQ-QcE3zo"
      },
      "source": [
        "#### Solution"
      ]
    },
    {
      "cell_type": "code",
      "execution_count": null,
      "metadata": {
        "id": "poBCy9u_csyR"
      },
      "outputs": [],
      "source": [
        "# SOLUTION\n",
        "# Train it for 1,000,000 timesteps\n",
        "model.learn(total_timesteps=1000000)\n",
        "# Save the model\n",
        "model_name = \"ppo-LunarLander-v2\"\n",
        "model.save(model_name)"
      ]
    },
    {
      "cell_type": "markdown",
      "metadata": {
        "id": "BY_HuedOoISR"
      },
      "source": [
        "## Evaluate the agent 📈\n",
        "- Remember to wrap the environment in a [Monitor](https://stable-baselines3.readthedocs.io/en/master/common/monitor.html).\n",
        "- Now that our Lunar Lander agent is trained 🚀, we need to **check its performance**.\n",
        "- Stable-Baselines3 provides a method to do that: `evaluate_policy`.\n",
        "- To fill that part you need to [check the documentation](https://stable-baselines3.readthedocs.io/en/master/guide/examples.html#basic-usage-training-saving-loading)\n",
        "- In the next step,  we'll see **how to automatically evaluate and share your agent to compete in a leaderboard, but for now let's do it ourselves**\n",
        "\n",
        "\n",
        "💡 When you evaluate your agent, you should not use your training environment but create an evaluation environment."
      ]
    },
    {
      "cell_type": "code",
      "execution_count": 19,
      "metadata": {
        "id": "yRpno0glsADy"
      },
      "outputs": [
        {
          "name": "stdout",
          "output_type": "stream",
          "text": [
            "Mean reward: 236.9532178 +/- 43.26\n"
          ]
        }
      ],
      "source": [
        "# TODO: Evaluate the agent\n",
        "# Create a new environment for evaluation\n",
        "eval_env = Monitor(gym.make(\"LunarLander-v2\"))\n",
        "\n",
        "# Evaluate the model with 10 evaluation episodes and deterministic=True\n",
        "mean_reward, std_reward = evaluate_policy(model, eval_env, n_eval_episodes=10, deterministic=True)\n",
        "\n",
        "# Print the results\n",
        "print(f\"Mean reward: {mean_reward} +/- {std_reward:.2f}\")\n",
        "\n"
      ]
    },
    {
      "cell_type": "code",
      "execution_count": 23,
      "metadata": {},
      "outputs": [
        {
          "name": "stderr",
          "output_type": "stream",
          "text": [
            "/home/tomek/pytorch_learning/venv/lib/python3.10/site-packages/gymnasium/wrappers/monitoring/video_recorder.py:178: UserWarning: \u001b[33mWARN: Unable to save last video! Did you call close()?\u001b[0m\n",
            "  logger.warn(\"Unable to save last video! Did you call close()?\")\n"
          ]
        }
      ],
      "source": [
        "import cv2"
      ]
    },
    {
      "cell_type": "code",
      "execution_count": 26,
      "metadata": {},
      "outputs": [
        {
          "ename": "KeyboardInterrupt",
          "evalue": "",
          "output_type": "error",
          "traceback": [
            "\u001b[0;31m---------------------------------------------------------------------------\u001b[0m",
            "\u001b[0;31mKeyboardInterrupt\u001b[0m                         Traceback (most recent call last)",
            "Cell \u001b[0;32mIn[26], line 6\u001b[0m\n\u001b[1;32m      4\u001b[0m action, _states \u001b[38;5;241m=\u001b[39m model\u001b[38;5;241m.\u001b[39mpredict(obs, deterministic\u001b[38;5;241m=\u001b[39m\u001b[38;5;28;01mTrue\u001b[39;00m)\n\u001b[1;32m      5\u001b[0m obs, rewards, dones, info \u001b[38;5;241m=\u001b[39m vec_env\u001b[38;5;241m.\u001b[39mstep(action)\n\u001b[0;32m----> 6\u001b[0m \u001b[43mvec_env\u001b[49m\u001b[38;5;241;43m.\u001b[39;49m\u001b[43mrender\u001b[49m\u001b[43m(\u001b[49m\u001b[38;5;124;43m\"\u001b[39;49m\u001b[38;5;124;43mhuman\u001b[39;49m\u001b[38;5;124;43m\"\u001b[39;49m\u001b[43m)\u001b[49m\n",
            "File \u001b[0;32m~/pytorch_learning/venv/lib/python3.10/site-packages/stable_baselines3/common/vec_env/dummy_vec_env.py:103\u001b[0m, in \u001b[0;36mDummyVecEnv.render\u001b[0;34m(self, mode)\u001b[0m\n\u001b[1;32m     96\u001b[0m \u001b[38;5;28;01mdef\u001b[39;00m \u001b[38;5;21mrender\u001b[39m(\u001b[38;5;28mself\u001b[39m, mode: Optional[\u001b[38;5;28mstr\u001b[39m] \u001b[38;5;241m=\u001b[39m \u001b[38;5;28;01mNone\u001b[39;00m) \u001b[38;5;241m-\u001b[39m\u001b[38;5;241m>\u001b[39m Optional[np\u001b[38;5;241m.\u001b[39mndarray]:\n\u001b[1;32m     97\u001b[0m \u001b[38;5;250m    \u001b[39m\u001b[38;5;124;03m\"\"\"\u001b[39;00m\n\u001b[1;32m     98\u001b[0m \u001b[38;5;124;03m    Gym environment rendering. If there are multiple environments then\u001b[39;00m\n\u001b[1;32m     99\u001b[0m \u001b[38;5;124;03m    they are tiled together in one image via ``BaseVecEnv.render()``.\u001b[39;00m\n\u001b[1;32m    100\u001b[0m \n\u001b[1;32m    101\u001b[0m \u001b[38;5;124;03m    :param mode: The rendering type.\u001b[39;00m\n\u001b[1;32m    102\u001b[0m \u001b[38;5;124;03m    \"\"\"\u001b[39;00m\n\u001b[0;32m--> 103\u001b[0m     \u001b[38;5;28;01mreturn\u001b[39;00m \u001b[38;5;28;43msuper\u001b[39;49m\u001b[43m(\u001b[49m\u001b[43m)\u001b[49m\u001b[38;5;241;43m.\u001b[39;49m\u001b[43mrender\u001b[49m\u001b[43m(\u001b[49m\u001b[43mmode\u001b[49m\u001b[38;5;241;43m=\u001b[39;49m\u001b[43mmode\u001b[49m\u001b[43m)\u001b[49m\n",
            "File \u001b[0;32m~/pytorch_learning/venv/lib/python3.10/site-packages/stable_baselines3/common/vec_env/base_vec_env.py:264\u001b[0m, in \u001b[0;36mVecEnv.render\u001b[0;34m(self, mode)\u001b[0m\n\u001b[1;32m    261\u001b[0m     \u001b[38;5;28;01mimport\u001b[39;00m \u001b[38;5;21;01mcv2\u001b[39;00m\n\u001b[1;32m    263\u001b[0m     cv2\u001b[38;5;241m.\u001b[39mimshow(\u001b[38;5;124m\"\u001b[39m\u001b[38;5;124mvecenv\u001b[39m\u001b[38;5;124m\"\u001b[39m, bigimg[:, :, ::\u001b[38;5;241m-\u001b[39m\u001b[38;5;241m1\u001b[39m])\n\u001b[0;32m--> 264\u001b[0m     \u001b[43mcv2\u001b[49m\u001b[38;5;241;43m.\u001b[39;49m\u001b[43mwaitKey\u001b[49m\u001b[43m(\u001b[49m\u001b[38;5;241;43m1\u001b[39;49m\u001b[43m)\u001b[49m\n\u001b[1;32m    265\u001b[0m \u001b[38;5;28;01melse\u001b[39;00m:\n\u001b[1;32m    266\u001b[0m     \u001b[38;5;28;01mreturn\u001b[39;00m bigimg\n",
            "\u001b[0;31mKeyboardInterrupt\u001b[0m: "
          ]
        }
      ],
      "source": [
        "vec_env = model.get_env()\n",
        "obs = vec_env.reset()\n",
        "for i in range(1000):\n",
        "    action, _states = model.predict(obs, deterministic=True)\n",
        "    obs, rewards, dones, info = vec_env.step(action)\n",
        "    vec_env.render(\"human\")"
      ]
    },
    {
      "cell_type": "markdown",
      "metadata": {
        "id": "BqPKw3jt_pG5"
      },
      "source": [
        "#### Solution"
      ]
    },
    {
      "cell_type": "code",
      "execution_count": null,
      "metadata": {
        "id": "zpz8kHlt_a_m"
      },
      "outputs": [],
      "source": [
        "#@title\n",
        "eval_env = Monitor(gym.make(\"LunarLander-v2\"))\n",
        "mean_reward, std_reward = evaluate_policy(model, eval_env, n_eval_episodes=10, deterministic=True)\n",
        "print(f\"mean_reward={mean_reward:.2f} +/- {std_reward}\")"
      ]
    },
    {
      "cell_type": "markdown",
      "metadata": {
        "id": "reBhoODwcXfr"
      },
      "source": [
        "- In my case, I got a mean reward is `200.20 +/- 20.80` after training for 1 million steps, which means that our lunar lander agent is ready to land on the moon 🌛🥳."
      ]
    },
    {
      "cell_type": "markdown",
      "metadata": {
        "id": "IK_kR78NoNb2"
      },
      "source": [
        "## Publish our trained model on the Hub 🔥\n",
        "Now that we saw we got good results after the training, we can publish our trained model on the hub 🤗 with one line of code.\n",
        "\n",
        "📚 The libraries documentation 👉 https://github.com/huggingface/huggingface_sb3/tree/main#hugging-face--x-stable-baselines3-v20\n",
        "\n",
        "Here's an example of a Model Card (with Space Invaders):"
      ]
    },
    {
      "cell_type": "markdown",
      "metadata": {
        "id": "Gs-Ew7e1gXN3"
      },
      "source": [
        "By using `package_to_hub` **you evaluate, record a replay, generate a model card of your agent and push it to the hub**.\n",
        "\n",
        "This way:\n",
        "- You can **showcase our work** 🔥\n",
        "- You can **visualize your agent playing** 👀\n",
        "- You can **share with the community an agent that others can use** 💾\n",
        "- You can **access a leaderboard 🏆 to see how well your agent is performing compared to your classmates** 👉 https://huggingface.co/spaces/huggingface-projects/Deep-Reinforcement-Learning-Leaderboard\n"
      ]
    },
    {
      "cell_type": "markdown",
      "metadata": {
        "id": "JquRrWytA6eo"
      },
      "source": [
        "To be able to share your model with the community there are three more steps to follow:\n",
        "\n",
        "1️⃣ (If it's not already done) create an account on Hugging Face ➡ https://huggingface.co/join\n",
        "\n",
        "2️⃣ Sign in and then, you need to store your authentication token from the Hugging Face website.\n",
        "- Create a new token (https://huggingface.co/settings/tokens) **with write role**\n",
        "\n",
        "<img src=\"https://huggingface.co/datasets/huggingface-deep-rl-course/course-images/resolve/main/en/notebooks/create-token.jpg\" alt=\"Create HF Token\">\n",
        "\n",
        "- Copy the token\n",
        "- Run the cell below and paste the token"
      ]
    },
    {
      "cell_type": "code",
      "execution_count": 14,
      "metadata": {
        "id": "GZiFBBlzxzxY"
      },
      "outputs": [
        {
          "data": {
            "application/vnd.jupyter.widget-view+json": {
              "model_id": "2e022b85d6e24aa9b9baf63fa3af3185",
              "version_major": 2,
              "version_minor": 0
            },
            "text/plain": [
              "VBox(children=(HTML(value='<center> <img\\nsrc=https://huggingface.co/front/assets/huggingface_logo-noborder.sv…"
            ]
          },
          "metadata": {},
          "output_type": "display_data"
        }
      ],
      "source": [
        "notebook_login()\n",
        "!git config --global credential.helper store"
      ]
    },
    {
      "cell_type": "code",
      "execution_count": 15,
      "metadata": {},
      "outputs": [
        {
          "name": "stdout",
          "output_type": "stream",
          "text": [
            "\n",
            "    _|    _|  _|    _|    _|_|_|    _|_|_|  _|_|_|  _|      _|    _|_|_|      _|_|_|_|    _|_|      _|_|_|  _|_|_|_|\n",
            "    _|    _|  _|    _|  _|        _|          _|    _|_|    _|  _|            _|        _|    _|  _|        _|\n",
            "    _|_|_|_|  _|    _|  _|  _|_|  _|  _|_|    _|    _|  _|  _|  _|  _|_|      _|_|_|    _|_|_|_|  _|        _|_|_|\n",
            "    _|    _|  _|    _|  _|    _|  _|    _|    _|    _|    _|_|  _|    _|      _|        _|    _|  _|        _|\n",
            "    _|    _|    _|_|      _|_|_|    _|_|_|  _|_|_|  _|      _|    _|_|_|      _|        _|    _|    _|_|_|  _|_|_|_|\n",
            "\n",
            "    To login, `huggingface_hub` requires a token generated from https://huggingface.co/settings/tokens .\n",
            "Enter your token (input will not be visible): Traceback (most recent call last):\n",
            "  File \"/home/tomek/pytorch_learning/venv/bin/huggingface-cli\", line 8, in <module>\n",
            "    sys.exit(main())\n",
            "  File \"/home/tomek/pytorch_learning/venv/lib/python3.10/site-packages/huggingface_hub/commands/huggingface_cli.py\", line 49, in main\n",
            "    service.run()\n",
            "  File \"/home/tomek/pytorch_learning/venv/lib/python3.10/site-packages/huggingface_hub/commands/user.py\", line 98, in run\n",
            "    login(token=self.args.token, add_to_git_credential=self.args.add_to_git_credential)\n",
            "  File \"/home/tomek/pytorch_learning/venv/lib/python3.10/site-packages/huggingface_hub/_login.py\", line 114, in login\n",
            "    interpreter_login(new_session=new_session, write_permission=write_permission)\n",
            "  File \"/home/tomek/pytorch_learning/venv/lib/python3.10/site-packages/huggingface_hub/_login.py\", line 190, in interpreter_login\n",
            "    token = getpass(\"Enter your token (input will not be visible): \")\n",
            "  File \"/usr/lib/python3.10/getpass.py\", line 77, in unix_getpass\n",
            "    passwd = _raw_input(prompt, stream, input=input)\n",
            "  File \"/usr/lib/python3.10/getpass.py\", line 146, in _raw_input\n",
            "    line = input.readline()\n",
            "  File \"/usr/lib/python3.10/codecs.py\", line 319, in decode\n",
            "    def decode(self, input, final=False):\n",
            "KeyboardInterrupt\n"
          ]
        }
      ],
      "source": [
        "!huggingface-cli login"
      ]
    },
    {
      "cell_type": "markdown",
      "metadata": {
        "id": "_tsf2uv0g_4p"
      },
      "source": [
        "If you don't want to use a Google Colab or a Jupyter Notebook, you need to use this command instead: `huggingface-cli login`"
      ]
    },
    {
      "cell_type": "markdown",
      "metadata": {
        "id": "FGNh9VsZok0i"
      },
      "source": [
        "3️⃣ We're now ready to push our trained agent to the 🤗 Hub 🔥 using `package_to_hub()` function"
      ]
    },
    {
      "cell_type": "markdown",
      "metadata": {
        "id": "Ay24l6bqFF18"
      },
      "source": [
        "Let's fill the `package_to_hub` function:\n",
        "- `model`: our trained model.\n",
        "- `model_name`: the name of the trained model that we defined in `model_save`\n",
        "- `model_architecture`: the model architecture we used, in our case PPO\n",
        "- `env_id`: the name of the environment, in our case `LunarLander-v2`\n",
        "- `eval_env`: the evaluation environment defined in eval_env\n",
        "- `repo_id`: the name of the Hugging Face Hub Repository that will be created/updated `(repo_id = {username}/{repo_name})`\n",
        "\n",
        "💡 **A good name is {username}/{model_architecture}-{env_id}**\n",
        "\n",
        "- `commit_message`: message of the commit"
      ]
    },
    {
      "cell_type": "code",
      "execution_count": 20,
      "metadata": {
        "id": "JPG7ofdGIHN8"
      },
      "outputs": [
        {
          "name": "stdout",
          "output_type": "stream",
          "text": [
            "\u001b[38;5;4mℹ This function will save, evaluate, generate a video of your agent,\n",
            "create a model card and push everything to the hub. It might take up to 1min.\n",
            "This is a work in progress: if you encounter a bug, please open an issue.\u001b[0m\n"
          ]
        },
        {
          "name": "stderr",
          "output_type": "stream",
          "text": [
            "Exception ignored in: <function VecVideoRecorder.__del__ at 0x7fe55dfabc70>\n",
            "Traceback (most recent call last):\n",
            "  File \"/home/tomek/pytorch_learning/venv/lib/python3.10/site-packages/stable_baselines3/common/vec_env/vec_video_recorder.py\", line 113, in __del__\n",
            "    self.close_video_recorder()\n",
            "  File \"/home/tomek/pytorch_learning/venv/lib/python3.10/site-packages/stable_baselines3/common/vec_env/vec_video_recorder.py\", line 104, in close_video_recorder\n",
            "    self.video_recorder.close()\n",
            "  File \"/home/tomek/pytorch_learning/venv/lib/python3.10/site-packages/gymnasium/wrappers/monitoring/video_recorder.py\", line 157, in close\n",
            "    clip.write_videofile(self.path, logger=moviepy_logger)\n",
            "  File \"/home/tomek/pytorch_learning/venv/lib/python3.10/site-packages/decorator.py\", line 232, in fun\n",
            "    for i, extra in enumerate(extras):\n",
            "  File \"/home/tomek/pytorch_learning/venv/lib/python3.10/site-packages/moviepy/decorators.py\", line 54, in requires_duration\n",
            "    return f(clip, *a, **k)\n",
            "  File \"/home/tomek/pytorch_learning/venv/lib/python3.10/site-packages/decorator.py\", line 232, in fun\n",
            "    for i, extra in enumerate(extras):\n",
            "  File \"/home/tomek/pytorch_learning/venv/lib/python3.10/site-packages/moviepy/decorators.py\", line 135, in use_clip_fps_by_default\n",
            "    return f(clip, *new_a, **new_kw)\n",
            "  File \"/home/tomek/pytorch_learning/venv/lib/python3.10/site-packages/decorator.py\", line 232, in fun\n",
            "    for i, extra in enumerate(extras):\n",
            "  File \"/home/tomek/pytorch_learning/venv/lib/python3.10/site-packages/moviepy/decorators.py\", line 22, in convert_masks_to_RGB\n",
            "    return f(clip, *a, **k)\n",
            "  File \"/home/tomek/pytorch_learning/venv/lib/python3.10/site-packages/moviepy/video/VideoClip.py\", line 300, in write_videofile\n",
            "    ffmpeg_write_video(self, filename, fps, codec,\n",
            "  File \"/home/tomek/pytorch_learning/venv/lib/python3.10/site-packages/moviepy/video/io/ffmpeg_writer.py\", line 213, in ffmpeg_write_video\n",
            "    with FFMPEG_VideoWriter(filename, clip.size, fps, codec = codec,\n",
            "  File \"/home/tomek/pytorch_learning/venv/lib/python3.10/site-packages/moviepy/video/io/ffmpeg_writer.py\", line 88, in __init__\n",
            "    '-r', '%.02f' % fps,\n",
            "TypeError: must be real number, not NoneType\n"
          ]
        },
        {
          "name": "stdout",
          "output_type": "stream",
          "text": [
            "Saving video to /tmp/tmpjx3t4eoj/-step-0-to-step-1000.mp4\n",
            "Moviepy - Building video /tmp/tmpjx3t4eoj/-step-0-to-step-1000.mp4.\n",
            "Moviepy - Writing video /tmp/tmpjx3t4eoj/-step-0-to-step-1000.mp4\n",
            "\n",
            "\u001b[38;5;1m✘ must be real number, not NoneType\u001b[0m\n",
            "\u001b[38;5;1m✘ We are unable to generate a replay of your agent, the package_to_hub\n",
            "process continues\u001b[0m\n",
            "\u001b[38;5;1m✘ Please open an issue at\n",
            "https://github.com/huggingface/huggingface_sb3/issues\u001b[0m\n",
            "Moviepy - Building video /tmp/tmpjx3t4eoj/-step-0-to-step-1000.mp4.\n",
            "Moviepy - Writing video /tmp/tmpjx3t4eoj/-step-0-to-step-1000.mp4\n",
            "\n",
            "\u001b[38;5;4mℹ Pushing repo Hevagog/ppo-LunarLander-v2 to the Hugging Face Hub\u001b[0m\n"
          ]
        },
        {
          "name": "stderr",
          "output_type": "stream",
          "text": [
            "/home/tomek/pytorch_learning/venv/lib/python3.10/site-packages/gymnasium/wrappers/monitoring/video_recorder.py:178: UserWarning: \u001b[33mWARN: Unable to save last video! Did you call close()?\u001b[0m\n",
            "  logger.warn(\"Unable to save last video! Did you call close()?\")\n",
            "ppo-LunarLander-v2.zip: 100%|██████████| 151k/151k [00:00<00:00, 241kB/s] \n"
          ]
        },
        {
          "name": "stdout",
          "output_type": "stream",
          "text": [
            "\u001b[38;5;4mℹ Your model is pushed to the Hub. You can view your model here:\n",
            "https://huggingface.co/Hevagog/ppo-LunarLander-v2/tree/main/\u001b[0m\n"
          ]
        },
        {
          "data": {
            "text/plain": [
              "CommitInfo(commit_url='https://huggingface.co/Hevagog/ppo-LunarLander-v2/commit/38a12fe630c01f8af6b5fdd2bb057624f864da51', commit_message='Monitor fix', commit_description='', oid='38a12fe630c01f8af6b5fdd2bb057624f864da51', pr_url=None, pr_revision=None, pr_num=None)"
            ]
          },
          "execution_count": 20,
          "metadata": {},
          "output_type": "execute_result"
        }
      ],
      "source": [
        "import gymnasium as gym\n",
        "from stable_baselines3.common.vec_env import DummyVecEnv\n",
        "from stable_baselines3.common.env_util import make_vec_env\n",
        "\n",
        "from huggingface_sb3 import package_to_hub\n",
        "\n",
        "## TODO: Define a repo_id\n",
        "## repo_id is the id of the model repository from the Hugging Face Hub (repo_id = {organization}/{repo_name} for instance ThomasSimonini/ppo-LunarLander-v2\n",
        "repo_id = \"Hevagog/ppo-LunarLander-v2\"\n",
        "\n",
        "# TODO: Define the name of the environment\n",
        "env_id = \"LunarLander-v2\"\n",
        "\n",
        "# Create the evaluation env and set the render_mode=\"rgb_array\"\n",
        "eval_env = DummyVecEnv([lambda: Monitor(gym.make(env_id, render_mode=\"rgb_array\"))])\n",
        "\n",
        "\n",
        "# TODO: Define the model architecture we used\n",
        "model_architecture = \"PPO with MlpPolicy\"\n",
        "\n",
        "## TODO: Define the commit message\n",
        "commit_message = \"Monitor fix\"\n",
        "\n",
        "# method save, evaluate, generate a model card and record a replay video of your agent before pushing the repo to the hub\n",
        "package_to_hub(model=model, # Our trained model\n",
        "               model_name=model_name, # The name of our trained model\n",
        "               model_architecture=model_architecture, # The model architecture we used: in our case PPO\n",
        "               env_id=env_id, # Name of the environment\n",
        "               eval_env=eval_env, # Evaluation Environment\n",
        "               repo_id=repo_id, # id of the model repository from the Hugging Face Hub (repo_id = {organization}/{repo_name} for instance ThomasSimonini/ppo-LunarLander-v2\n",
        "               commit_message=commit_message)"
      ]
    },
    {
      "cell_type": "markdown",
      "metadata": {
        "id": "Avf6gufJBGMw"
      },
      "source": [
        "#### Solution\n"
      ]
    },
    {
      "cell_type": "code",
      "execution_count": null,
      "metadata": {
        "id": "I2E--IJu8JYq"
      },
      "outputs": [],
      "source": [
        "import gymnasium as gym\n",
        "\n",
        "from stable_baselines3 import PPO\n",
        "from stable_baselines3.common.vec_env import DummyVecEnv\n",
        "from stable_baselines3.common.env_util import make_vec_env\n",
        "\n",
        "from huggingface_sb3 import package_to_hub\n",
        "\n",
        "# PLACE the variables you've just defined two cells above\n",
        "# Define the name of the environment\n",
        "env_id = \"LunarLander-v2\"\n",
        "\n",
        "# TODO: Define the model architecture we used\n",
        "model_architecture = \"PPO\"\n",
        "\n",
        "## Define a repo_id\n",
        "## repo_id is the id of the model repository from the Hugging Face Hub (repo_id = {organization}/{repo_name} for instance ThomasSimonini/ppo-LunarLander-v2\n",
        "## CHANGE WITH YOUR REPO ID\n",
        "repo_id = \"ThomasSimonini/ppo-LunarLander-v2\" # Change with your repo id, you can't push with mine 😄\n",
        "\n",
        "## Define the commit message\n",
        "commit_message = \"Upload PPO LunarLander-v2 trained agent\"\n",
        "\n",
        "# Create the evaluation env and set the render_mode=\"rgb_array\"\n",
        "eval_env = DummyVecEnv([lambda: gym.make(env_id, render_mode=\"rgb_array\")])\n",
        "\n",
        "# PLACE the package_to_hub function you've just filled here\n",
        "package_to_hub(model=model, # Our trained model\n",
        "               model_name=model_name, # The name of our trained model\n",
        "               model_architecture=model_architecture, # The model architecture we used: in our case PPO\n",
        "               env_id=env_id, # Name of the environment\n",
        "               eval_env=eval_env, # Evaluation Environment\n",
        "               repo_id=repo_id, # id of the model repository from the Hugging Face Hub (repo_id = {organization}/{repo_name} for instance ThomasSimonini/ppo-LunarLander-v2\n",
        "               commit_message=commit_message)\n"
      ]
    },
    {
      "cell_type": "markdown",
      "metadata": {
        "id": "T79AEAWEFIxz"
      },
      "source": [
        "Congrats 🥳 you've just trained and uploaded your first Deep Reinforcement Learning agent. The script above should have displayed a link to a model repository such as https://huggingface.co/osanseviero/test_sb3. When you go to this link, you can:\n",
        "* See a video preview of your agent at the right.\n",
        "* Click \"Files and versions\" to see all the files in the repository.\n",
        "* Click \"Use in stable-baselines3\" to get a code snippet that shows how to load the model.\n",
        "* A model card (`README.md` file) which gives a description of the model\n",
        "\n",
        "Under the hood, the Hub uses git-based repositories (don't worry if you don't know what git is), which means you can update the model with new versions as you experiment and improve your agent.\n",
        "\n",
        "Compare the results of your LunarLander-v2 with your classmates using the leaderboard 🏆 👉 https://huggingface.co/spaces/huggingface-projects/Deep-Reinforcement-Learning-Leaderboard"
      ]
    },
    {
      "cell_type": "markdown",
      "metadata": {
        "id": "9nWnuQHRfFRa"
      },
      "source": [
        "## Load a saved LunarLander model from the Hub 🤗\n",
        "Thanks to [ironbar](https://github.com/ironbar) for the contribution.\n",
        "\n",
        "Loading a saved model from the Hub is really easy.\n",
        "\n",
        "You go to https://huggingface.co/models?library=stable-baselines3 to see the list of all the Stable-baselines3 saved models.\n",
        "1. You select one and copy its repo_id\n",
        "\n",
        "<img src=\"https://huggingface.co/datasets/huggingface-deep-rl-course/course-images/resolve/main/en/notebooks/unit1/copy-id.png\" alt=\"Copy-id\"/>"
      ]
    },
    {
      "cell_type": "markdown",
      "metadata": {
        "id": "hNPLJF2bfiUw"
      },
      "source": [
        "2. Then we just need to use load_from_hub with:\n",
        "- The repo_id\n",
        "- The filename: the saved model inside the repo and its extension (*.zip)"
      ]
    },
    {
      "cell_type": "markdown",
      "metadata": {
        "id": "bhb9-NtsinKB"
      },
      "source": [
        "Because the model I download from the Hub was trained with Gym (the former version of Gymnasium) we need to install shimmy a API conversion tool that will help us to run the environment correctly.\n",
        "\n",
        "Shimmy Documentation: https://github.com/Farama-Foundation/Shimmy"
      ]
    },
    {
      "cell_type": "code",
      "execution_count": null,
      "metadata": {
        "id": "03WI-bkci1kH"
      },
      "outputs": [],
      "source": [
        "!pip install shimmy"
      ]
    },
    {
      "cell_type": "code",
      "execution_count": null,
      "metadata": {
        "id": "oj8PSGHJfwz3"
      },
      "outputs": [],
      "source": [
        "from huggingface_sb3 import load_from_hub\n",
        "repo_id = \"Classroom-workshop/assignment2-omar\" # The repo_id\n",
        "filename = \"ppo-LunarLander-v2.zip\" # The model filename.zip\n",
        "\n",
        "# When the model was trained on Python 3.8 the pickle protocol is 5\n",
        "# But Python 3.6, 3.7 use protocol 4\n",
        "# In order to get compatibility we need to:\n",
        "# 1. Install pickle5 (we done it at the beginning of the colab)\n",
        "# 2. Create a custom empty object we pass as parameter to PPO.load()\n",
        "custom_objects = {\n",
        "            \"learning_rate\": 0.0,\n",
        "            \"lr_schedule\": lambda _: 0.0,\n",
        "            \"clip_range\": lambda _: 0.0,\n",
        "}\n",
        "\n",
        "checkpoint = load_from_hub(repo_id, filename)\n",
        "model = PPO.load(checkpoint, custom_objects=custom_objects, print_system_info=True)"
      ]
    },
    {
      "cell_type": "markdown",
      "metadata": {
        "id": "Fs0Y-qgPgLUf"
      },
      "source": [
        "Let's evaluate this agent:"
      ]
    },
    {
      "cell_type": "code",
      "execution_count": null,
      "metadata": {
        "id": "PAEVwK-aahfx"
      },
      "outputs": [],
      "source": [
        "#@title\n",
        "eval_env = Monitor(gym.make(\"LunarLander-v2\"))\n",
        "mean_reward, std_reward = evaluate_policy(model, eval_env, n_eval_episodes=10, deterministic=True)\n",
        "print(f\"mean_reward={mean_reward:.2f} +/- {std_reward}\")"
      ]
    },
    {
      "cell_type": "markdown",
      "metadata": {
        "id": "BQAwLnYFPk-s"
      },
      "source": [
        "## Some additional challenges 🏆\n",
        "The best way to learn **is to try things by your own**! As you saw, the current agent is not doing great. As a first suggestion, you can train for more steps. With 1,000,000 steps, we saw some great results!\n",
        "\n",
        "In the [Leaderboard](https://huggingface.co/spaces/huggingface-projects/Deep-Reinforcement-Learning-Leaderboard) you will find your agents. Can you get to the top?\n",
        "\n",
        "Here are some ideas to achieve so:\n",
        "* Train more steps\n",
        "* Try different hyperparameters for `PPO`. You can see them at https://stable-baselines3.readthedocs.io/en/master/modules/ppo.html#parameters.\n",
        "* Check the [Stable-Baselines3 documentation](https://stable-baselines3.readthedocs.io/en/master/modules/dqn.html) and try another model such as DQN.\n",
        "* **Push your new trained model** on the Hub 🔥\n",
        "\n",
        "**Compare the results of your LunarLander-v2 with your classmates** using the [leaderboard](https://huggingface.co/spaces/huggingface-projects/Deep-Reinforcement-Learning-Leaderboard) 🏆\n",
        "\n",
        "Is moon landing too boring for you? Try to **change the environment**, why not use MountainCar-v0, CartPole-v1 or CarRacing-v0? Check how they work [using the gym documentation](https://www.gymlibrary.dev/) and have fun 🎉."
      ]
    },
    {
      "cell_type": "markdown",
      "metadata": {
        "id": "9lM95-dvmif8"
      },
      "source": [
        "________________________________________________________________________\n",
        "Congrats on finishing this chapter! That was the biggest one, **and there was a lot of information.**\n",
        "\n",
        "If you’re still feel confused with all these elements...it's totally normal! **This was the same for me and for all people who studied RL.**\n",
        "\n",
        "Take time to really **grasp the material before continuing and try the additional challenges**. It’s important to master these elements and have a solid foundations.\n",
        "\n",
        "Naturally, during the course, we’re going to dive deeper into these concepts but **it’s better to have a good understanding of them now before diving into the next chapters.**\n",
        "\n"
      ]
    },
    {
      "cell_type": "markdown",
      "metadata": {
        "id": "BjLhT70TEZIn"
      },
      "source": [
        "Next time, in the bonus unit 1, you'll train Huggy the Dog to fetch the stick.\n",
        "\n",
        "<img src=\"https://huggingface.co/datasets/huggingface-deep-rl-course/course-images/resolve/main/en/notebooks/unit1/huggy.jpg\" alt=\"Huggy\"/>\n",
        "\n",
        "## Keep learning, stay awesome 🤗"
      ]
    }
  ],
  "metadata": {
    "accelerator": "GPU",
    "colab": {
      "collapsed_sections": [
        "QAN7B0_HCVZC",
        "BqPKw3jt_pG5"
      ],
      "private_outputs": true,
      "provenance": []
    },
    "gpuClass": "standard",
    "kernelspec": {
      "display_name": "Python 3.9.7",
      "language": "python",
      "name": "python3"
    },
    "language_info": {
      "codemirror_mode": {
        "name": "ipython",
        "version": 3
      },
      "file_extension": ".py",
      "mimetype": "text/x-python",
      "name": "python",
      "nbconvert_exporter": "python",
      "pygments_lexer": "ipython3",
      "version": "3.10.12"
    },
    "vscode": {
      "interpreter": {
        "hash": "ed7f8024e43d3b8f5ca3c5e1a8151ab4d136b3ecee1e3fd59e0766ccc55e1b10"
      }
    }
  },
  "nbformat": 4,
  "nbformat_minor": 0
}
